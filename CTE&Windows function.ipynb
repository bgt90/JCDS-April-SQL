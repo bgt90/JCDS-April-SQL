{
 "metadata": {
  "language_info": {
   "codemirror_mode": {
    "name": "ipython",
    "version": 3
   },
   "file_extension": ".py",
   "mimetype": "text/x-python",
   "name": "python",
   "nbconvert_exporter": "python",
   "pygments_lexer": "ipython3",
   "version": "3.8.3"
  },
  "orig_nbformat": 2,
  "kernelspec": {
   "name": "python383jvsc74a57bd0f6cadb433fb4d5e490a52a7886e50fe75cf2fd39fd559aabdd1f0f7248e07363",
   "display_name": "Python 3.8.3 64-bit ('base': conda)"
  }
 },
 "nbformat": 4,
 "nbformat_minor": 2,
 "cells": [
  {
   "cell_type": "code",
   "execution_count": 88,
   "metadata": {},
   "outputs": [],
   "source": [
    "import mysql.connector\n",
    "import pandas as pd"
   ]
  },
  {
   "cell_type": "code",
   "execution_count": 89,
   "metadata": {},
   "outputs": [],
   "source": [
    "#Koneksi ke database\n",
    "mydb = mysql.connector.connect(\n",
    "host = 'localhost',\n",
    "user = 'root',\n",
    "passwd = '****',\n",
    "database = 'sakila')"
   ]
  },
  {
   "cell_type": "code",
   "execution_count": 90,
   "metadata": {},
   "outputs": [],
   "source": [
    "#fungsi\n",
    "kursor = mydb.cursor()\n",
    "def sql(query) :\n",
    "    kursor.execute(query)\n",
    "    hasil = kursor.fetchall()\n",
    "    data = pd.DataFrame(data = hasil, columns = kursor.column_names)\n",
    "    return data"
   ]
  },
  {
   "cell_type": "code",
   "execution_count": 44,
   "metadata": {},
   "outputs": [
    {
     "output_type": "execute_result",
     "data": {
      "text/plain": [
       "     film_id              title  \\\n",
       "0          1   ACADEMY DINOSAUR   \n",
       "1          2     ACE GOLDFINGER   \n",
       "2          3   ADAPTATION HOLES   \n",
       "3          4   AFFAIR PREJUDICE   \n",
       "4          5        AFRICAN EGG   \n",
       "..       ...                ...   \n",
       "995      996     YOUNG LANGUAGE   \n",
       "996      997         YOUTH KICK   \n",
       "997      998       ZHIVAGO CORE   \n",
       "998      999  ZOOLANDER FICTION   \n",
       "999     1000          ZORRO ARK   \n",
       "\n",
       "                                           description  release_year  \\\n",
       "0    A Epic Drama of a Feminist And a Mad Scientist...          2006   \n",
       "1    A Astounding Epistle of a Database Administrat...          2006   \n",
       "2    A Astounding Reflection of a Lumberjack And a ...          2006   \n",
       "3    A Fanciful Documentary of a Frisbee And a Lumb...          2006   \n",
       "4    A Fast-Paced Documentary of a Pastry Chef And ...          2006   \n",
       "..                                                 ...           ...   \n",
       "995  A Unbelieveable Yarn of a Boat And a Database ...          2006   \n",
       "996  A Touching Drama of a Teacher And a Cat who mu...          2006   \n",
       "997  A Fateful Yarn of a Composer And a Man who mus...          2006   \n",
       "998  A Fateful Reflection of a Waitress And a Boat ...          2006   \n",
       "999  A Intrepid Panorama of a Mad Scientist And a B...          2006   \n",
       "\n",
       "     language_id original_language_id  rental_duration rental_rate  length  \\\n",
       "0              1                 None                6        0.99      86   \n",
       "1              1                 None                3        4.99      48   \n",
       "2              1                 None                7        2.99      50   \n",
       "3              1                 None                5        2.99     117   \n",
       "4              1                 None                6        2.99     130   \n",
       "..           ...                  ...              ...         ...     ...   \n",
       "995            1                 None                6        0.99     183   \n",
       "996            1                 None                4        0.99     179   \n",
       "997            1                 None                6        0.99     105   \n",
       "998            1                 None                5        2.99     101   \n",
       "999            1                 None                3        4.99      50   \n",
       "\n",
       "    replacement_cost rating                             special_features  \\\n",
       "0              20.99     PG          {Behind the Scenes, Deleted Scenes}   \n",
       "1              12.99      G                   {Trailers, Deleted Scenes}   \n",
       "2              18.99  NC-17                   {Trailers, Deleted Scenes}   \n",
       "3              26.99      G            {Behind the Scenes, Commentaries}   \n",
       "4              22.99      G                             {Deleted Scenes}   \n",
       "..               ...    ...                                          ...   \n",
       "995             9.99      G                {Behind the Scenes, Trailers}   \n",
       "996            14.99  NC-17                {Behind the Scenes, Trailers}   \n",
       "997            10.99  NC-17                             {Deleted Scenes}   \n",
       "998            28.99      R                   {Trailers, Deleted Scenes}   \n",
       "999            18.99  NC-17  {Behind the Scenes, Trailers, Commentaries}   \n",
       "\n",
       "            last_update  \n",
       "0   2006-02-15 05:03:42  \n",
       "1   2006-02-15 05:03:42  \n",
       "2   2006-02-15 05:03:42  \n",
       "3   2006-02-15 05:03:42  \n",
       "4   2006-02-15 05:03:42  \n",
       "..                  ...  \n",
       "995 2006-02-15 05:03:42  \n",
       "996 2006-02-15 05:03:42  \n",
       "997 2006-02-15 05:03:42  \n",
       "998 2006-02-15 05:03:42  \n",
       "999 2006-02-15 05:03:42  \n",
       "\n",
       "[1000 rows x 13 columns]"
      ],
      "text/html": "<div>\n<style scoped>\n    .dataframe tbody tr th:only-of-type {\n        vertical-align: middle;\n    }\n\n    .dataframe tbody tr th {\n        vertical-align: top;\n    }\n\n    .dataframe thead th {\n        text-align: right;\n    }\n</style>\n<table border=\"1\" class=\"dataframe\">\n  <thead>\n    <tr style=\"text-align: right;\">\n      <th></th>\n      <th>film_id</th>\n      <th>title</th>\n      <th>description</th>\n      <th>release_year</th>\n      <th>language_id</th>\n      <th>original_language_id</th>\n      <th>rental_duration</th>\n      <th>rental_rate</th>\n      <th>length</th>\n      <th>replacement_cost</th>\n      <th>rating</th>\n      <th>special_features</th>\n      <th>last_update</th>\n    </tr>\n  </thead>\n  <tbody>\n    <tr>\n      <th>0</th>\n      <td>1</td>\n      <td>ACADEMY DINOSAUR</td>\n      <td>A Epic Drama of a Feminist And a Mad Scientist...</td>\n      <td>2006</td>\n      <td>1</td>\n      <td>None</td>\n      <td>6</td>\n      <td>0.99</td>\n      <td>86</td>\n      <td>20.99</td>\n      <td>PG</td>\n      <td>{Behind the Scenes, Deleted Scenes}</td>\n      <td>2006-02-15 05:03:42</td>\n    </tr>\n    <tr>\n      <th>1</th>\n      <td>2</td>\n      <td>ACE GOLDFINGER</td>\n      <td>A Astounding Epistle of a Database Administrat...</td>\n      <td>2006</td>\n      <td>1</td>\n      <td>None</td>\n      <td>3</td>\n      <td>4.99</td>\n      <td>48</td>\n      <td>12.99</td>\n      <td>G</td>\n      <td>{Trailers, Deleted Scenes}</td>\n      <td>2006-02-15 05:03:42</td>\n    </tr>\n    <tr>\n      <th>2</th>\n      <td>3</td>\n      <td>ADAPTATION HOLES</td>\n      <td>A Astounding Reflection of a Lumberjack And a ...</td>\n      <td>2006</td>\n      <td>1</td>\n      <td>None</td>\n      <td>7</td>\n      <td>2.99</td>\n      <td>50</td>\n      <td>18.99</td>\n      <td>NC-17</td>\n      <td>{Trailers, Deleted Scenes}</td>\n      <td>2006-02-15 05:03:42</td>\n    </tr>\n    <tr>\n      <th>3</th>\n      <td>4</td>\n      <td>AFFAIR PREJUDICE</td>\n      <td>A Fanciful Documentary of a Frisbee And a Lumb...</td>\n      <td>2006</td>\n      <td>1</td>\n      <td>None</td>\n      <td>5</td>\n      <td>2.99</td>\n      <td>117</td>\n      <td>26.99</td>\n      <td>G</td>\n      <td>{Behind the Scenes, Commentaries}</td>\n      <td>2006-02-15 05:03:42</td>\n    </tr>\n    <tr>\n      <th>4</th>\n      <td>5</td>\n      <td>AFRICAN EGG</td>\n      <td>A Fast-Paced Documentary of a Pastry Chef And ...</td>\n      <td>2006</td>\n      <td>1</td>\n      <td>None</td>\n      <td>6</td>\n      <td>2.99</td>\n      <td>130</td>\n      <td>22.99</td>\n      <td>G</td>\n      <td>{Deleted Scenes}</td>\n      <td>2006-02-15 05:03:42</td>\n    </tr>\n    <tr>\n      <th>...</th>\n      <td>...</td>\n      <td>...</td>\n      <td>...</td>\n      <td>...</td>\n      <td>...</td>\n      <td>...</td>\n      <td>...</td>\n      <td>...</td>\n      <td>...</td>\n      <td>...</td>\n      <td>...</td>\n      <td>...</td>\n      <td>...</td>\n    </tr>\n    <tr>\n      <th>995</th>\n      <td>996</td>\n      <td>YOUNG LANGUAGE</td>\n      <td>A Unbelieveable Yarn of a Boat And a Database ...</td>\n      <td>2006</td>\n      <td>1</td>\n      <td>None</td>\n      <td>6</td>\n      <td>0.99</td>\n      <td>183</td>\n      <td>9.99</td>\n      <td>G</td>\n      <td>{Behind the Scenes, Trailers}</td>\n      <td>2006-02-15 05:03:42</td>\n    </tr>\n    <tr>\n      <th>996</th>\n      <td>997</td>\n      <td>YOUTH KICK</td>\n      <td>A Touching Drama of a Teacher And a Cat who mu...</td>\n      <td>2006</td>\n      <td>1</td>\n      <td>None</td>\n      <td>4</td>\n      <td>0.99</td>\n      <td>179</td>\n      <td>14.99</td>\n      <td>NC-17</td>\n      <td>{Behind the Scenes, Trailers}</td>\n      <td>2006-02-15 05:03:42</td>\n    </tr>\n    <tr>\n      <th>997</th>\n      <td>998</td>\n      <td>ZHIVAGO CORE</td>\n      <td>A Fateful Yarn of a Composer And a Man who mus...</td>\n      <td>2006</td>\n      <td>1</td>\n      <td>None</td>\n      <td>6</td>\n      <td>0.99</td>\n      <td>105</td>\n      <td>10.99</td>\n      <td>NC-17</td>\n      <td>{Deleted Scenes}</td>\n      <td>2006-02-15 05:03:42</td>\n    </tr>\n    <tr>\n      <th>998</th>\n      <td>999</td>\n      <td>ZOOLANDER FICTION</td>\n      <td>A Fateful Reflection of a Waitress And a Boat ...</td>\n      <td>2006</td>\n      <td>1</td>\n      <td>None</td>\n      <td>5</td>\n      <td>2.99</td>\n      <td>101</td>\n      <td>28.99</td>\n      <td>R</td>\n      <td>{Trailers, Deleted Scenes}</td>\n      <td>2006-02-15 05:03:42</td>\n    </tr>\n    <tr>\n      <th>999</th>\n      <td>1000</td>\n      <td>ZORRO ARK</td>\n      <td>A Intrepid Panorama of a Mad Scientist And a B...</td>\n      <td>2006</td>\n      <td>1</td>\n      <td>None</td>\n      <td>3</td>\n      <td>4.99</td>\n      <td>50</td>\n      <td>18.99</td>\n      <td>NC-17</td>\n      <td>{Behind the Scenes, Trailers, Commentaries}</td>\n      <td>2006-02-15 05:03:42</td>\n    </tr>\n  </tbody>\n</table>\n<p>1000 rows × 13 columns</p>\n</div>"
     },
     "metadata": {},
     "execution_count": 44
    }
   ],
   "source": [
    "sql('select * from film')"
   ]
  },
  {
   "cell_type": "code",
   "execution_count": 25,
   "metadata": {},
   "outputs": [
    {
     "output_type": "execute_result",
     "data": {
      "text/plain": [
       "   film_id  rental_duration\n",
       "0       70                7\n",
       "1       36                7\n",
       "2        3                7\n",
       "3       27                7\n",
       "4       78                7"
      ],
      "text/html": "<div>\n<style scoped>\n    .dataframe tbody tr th:only-of-type {\n        vertical-align: middle;\n    }\n\n    .dataframe tbody tr th {\n        vertical-align: top;\n    }\n\n    .dataframe thead th {\n        text-align: right;\n    }\n</style>\n<table border=\"1\" class=\"dataframe\">\n  <thead>\n    <tr style=\"text-align: right;\">\n      <th></th>\n      <th>film_id</th>\n      <th>rental_duration</th>\n    </tr>\n  </thead>\n  <tbody>\n    <tr>\n      <th>0</th>\n      <td>70</td>\n      <td>7</td>\n    </tr>\n    <tr>\n      <th>1</th>\n      <td>36</td>\n      <td>7</td>\n    </tr>\n    <tr>\n      <th>2</th>\n      <td>3</td>\n      <td>7</td>\n    </tr>\n    <tr>\n      <th>3</th>\n      <td>27</td>\n      <td>7</td>\n    </tr>\n    <tr>\n      <th>4</th>\n      <td>78</td>\n      <td>7</td>\n    </tr>\n  </tbody>\n</table>\n</div>"
     },
     "metadata": {},
     "execution_count": 25
    }
   ],
   "source": [
    "# menampilkan film_id dan rental durasinya, di mana rental durasi filmnya di atas rata-rata durasi semua film\n",
    "#subquery\n",
    "sql('''\n",
    "select film_id, rental_duration from film\n",
    "where length > (select avg(rental_duration) from film)\n",
    "order by rental_duration desc\n",
    "limit 5\n",
    " ''')"
   ]
  },
  {
   "cell_type": "code",
   "execution_count": 31,
   "metadata": {},
   "outputs": [
    {
     "output_type": "execute_result",
     "data": {
      "text/plain": [
       "   film_id  rental_duration\n",
       "0        3                7\n",
       "1       27                7\n",
       "2       70                7\n",
       "3       36                7\n",
       "4       78                7"
      ],
      "text/html": "<div>\n<style scoped>\n    .dataframe tbody tr th:only-of-type {\n        vertical-align: middle;\n    }\n\n    .dataframe tbody tr th {\n        vertical-align: top;\n    }\n\n    .dataframe thead th {\n        text-align: right;\n    }\n</style>\n<table border=\"1\" class=\"dataframe\">\n  <thead>\n    <tr style=\"text-align: right;\">\n      <th></th>\n      <th>film_id</th>\n      <th>rental_duration</th>\n    </tr>\n  </thead>\n  <tbody>\n    <tr>\n      <th>0</th>\n      <td>3</td>\n      <td>7</td>\n    </tr>\n    <tr>\n      <th>1</th>\n      <td>27</td>\n      <td>7</td>\n    </tr>\n    <tr>\n      <th>2</th>\n      <td>70</td>\n      <td>7</td>\n    </tr>\n    <tr>\n      <th>3</th>\n      <td>36</td>\n      <td>7</td>\n    </tr>\n    <tr>\n      <th>4</th>\n      <td>78</td>\n      <td>7</td>\n    </tr>\n  </tbody>\n</table>\n</div>"
     },
     "metadata": {},
     "execution_count": 31
    }
   ],
   "source": [
    "#CTE\n",
    "sql(''' \n",
    "WITH rata_durasi AS(\n",
    "SELECT AVG(rental_duration) as avg_durasi\n",
    "from film\n",
    ")\n",
    "\n",
    "select film_id, rental_duration from film\n",
    "where rental_duration> (select avg_durasi from rata_durasi)\n",
    "order by 2 desc\n",
    "limit 5\n",
    "''')"
   ]
  },
  {
   "cell_type": "code",
   "execution_count": 30,
   "metadata": {},
   "outputs": [
    {
     "output_type": "execute_result",
     "data": {
      "text/plain": [
       "                 title  length  rental_duration\n",
       "0     ACADEMY DINOSAUR      86                6\n",
       "1     ADAPTATION HOLES      50                7\n",
       "2      AIRPLANE SIERRA      62                6\n",
       "3      AIRPORT POLLOCK      54                6\n",
       "4     ALADDIN CALENDAR      63                6\n",
       "..                 ...     ...              ...\n",
       "288          WONKA SEA      85                6\n",
       "289      WYOMING STORM     100                6\n",
       "290        YENTL IDAHO      86                5\n",
       "291       ZHIVAGO CORE     105                6\n",
       "292  ZOOLANDER FICTION     101                5\n",
       "\n",
       "[293 rows x 3 columns]"
      ],
      "text/html": "<div>\n<style scoped>\n    .dataframe tbody tr th:only-of-type {\n        vertical-align: middle;\n    }\n\n    .dataframe tbody tr th {\n        vertical-align: top;\n    }\n\n    .dataframe thead th {\n        text-align: right;\n    }\n</style>\n<table border=\"1\" class=\"dataframe\">\n  <thead>\n    <tr style=\"text-align: right;\">\n      <th></th>\n      <th>title</th>\n      <th>length</th>\n      <th>rental_duration</th>\n    </tr>\n  </thead>\n  <tbody>\n    <tr>\n      <th>0</th>\n      <td>ACADEMY DINOSAUR</td>\n      <td>86</td>\n      <td>6</td>\n    </tr>\n    <tr>\n      <th>1</th>\n      <td>ADAPTATION HOLES</td>\n      <td>50</td>\n      <td>7</td>\n    </tr>\n    <tr>\n      <th>2</th>\n      <td>AIRPLANE SIERRA</td>\n      <td>62</td>\n      <td>6</td>\n    </tr>\n    <tr>\n      <th>3</th>\n      <td>AIRPORT POLLOCK</td>\n      <td>54</td>\n      <td>6</td>\n    </tr>\n    <tr>\n      <th>4</th>\n      <td>ALADDIN CALENDAR</td>\n      <td>63</td>\n      <td>6</td>\n    </tr>\n    <tr>\n      <th>...</th>\n      <td>...</td>\n      <td>...</td>\n      <td>...</td>\n    </tr>\n    <tr>\n      <th>288</th>\n      <td>WONKA SEA</td>\n      <td>85</td>\n      <td>6</td>\n    </tr>\n    <tr>\n      <th>289</th>\n      <td>WYOMING STORM</td>\n      <td>100</td>\n      <td>6</td>\n    </tr>\n    <tr>\n      <th>290</th>\n      <td>YENTL IDAHO</td>\n      <td>86</td>\n      <td>5</td>\n    </tr>\n    <tr>\n      <th>291</th>\n      <td>ZHIVAGO CORE</td>\n      <td>105</td>\n      <td>6</td>\n    </tr>\n    <tr>\n      <th>292</th>\n      <td>ZOOLANDER FICTION</td>\n      <td>101</td>\n      <td>5</td>\n    </tr>\n  </tbody>\n</table>\n<p>293 rows × 3 columns</p>\n</div>"
     },
     "metadata": {},
     "execution_count": 30
    }
   ],
   "source": [
    "#kita bisa membuat lebih dari 1 CTE\n",
    "sql(''' \n",
    "WITH rata_durasi AS(\n",
    "    SELECT AVG(rental_duration) as avg_durasi\n",
    "    from film),\n",
    "rata_lama as(\n",
    "    select avg(length) as avg_length\n",
    "    from film\n",
    ")\n",
    "select title, length, rental_duration from film\n",
    "where rental_duration > (select avg_durasi from rata_durasi) and\n",
    "length <(select avg_length from rata_lama)\n",
    "\n",
    "''')"
   ]
  },
  {
   "cell_type": "code",
   "execution_count": 35,
   "metadata": {},
   "outputs": [
    {
     "output_type": "execute_result",
     "data": {
      "text/plain": [
       "                   title  length\n",
       "0       AFFAIR PREJUDICE     117\n",
       "1          ALABAMA DEVIL     114\n",
       "2           AMADEUS HOLY     113\n",
       "3   APOCALYPSE FLAMINGOS     119\n",
       "4           ATTACKS HATE     113\n",
       "..                   ...     ...\n",
       "65        TROOPERS METAL     115\n",
       "66  UNTOUCHABLES SUNRISE     120\n",
       "67            WAIT CIDER     112\n",
       "68    WATERSHIP FRONTIER     112\n",
       "69          WORDS HUNTER     116\n",
       "\n",
       "[70 rows x 2 columns]"
      ],
      "text/html": "<div>\n<style scoped>\n    .dataframe tbody tr th:only-of-type {\n        vertical-align: middle;\n    }\n\n    .dataframe tbody tr th {\n        vertical-align: top;\n    }\n\n    .dataframe thead th {\n        text-align: right;\n    }\n</style>\n<table border=\"1\" class=\"dataframe\">\n  <thead>\n    <tr style=\"text-align: right;\">\n      <th></th>\n      <th>title</th>\n      <th>length</th>\n    </tr>\n  </thead>\n  <tbody>\n    <tr>\n      <th>0</th>\n      <td>AFFAIR PREJUDICE</td>\n      <td>117</td>\n    </tr>\n    <tr>\n      <th>1</th>\n      <td>ALABAMA DEVIL</td>\n      <td>114</td>\n    </tr>\n    <tr>\n      <th>2</th>\n      <td>AMADEUS HOLY</td>\n      <td>113</td>\n    </tr>\n    <tr>\n      <th>3</th>\n      <td>APOCALYPSE FLAMINGOS</td>\n      <td>119</td>\n    </tr>\n    <tr>\n      <th>4</th>\n      <td>ATTACKS HATE</td>\n      <td>113</td>\n    </tr>\n    <tr>\n      <th>...</th>\n      <td>...</td>\n      <td>...</td>\n    </tr>\n    <tr>\n      <th>65</th>\n      <td>TROOPERS METAL</td>\n      <td>115</td>\n    </tr>\n    <tr>\n      <th>66</th>\n      <td>UNTOUCHABLES SUNRISE</td>\n      <td>120</td>\n    </tr>\n    <tr>\n      <th>67</th>\n      <td>WAIT CIDER</td>\n      <td>112</td>\n    </tr>\n    <tr>\n      <th>68</th>\n      <td>WATERSHIP FRONTIER</td>\n      <td>112</td>\n    </tr>\n    <tr>\n      <th>69</th>\n      <td>WORDS HUNTER</td>\n      <td>116</td>\n    </tr>\n  </tbody>\n</table>\n<p>70 rows × 2 columns</p>\n</div>"
     },
     "metadata": {},
     "execution_count": 35
    }
   ],
   "source": [
    "# CTE bisa dipakai berkali-kali dalam 1 statement\n",
    "sql(''' \n",
    "with rata_panjang as(\n",
    "    select rating, avg(length) as avg_length\n",
    "    from film\n",
    "    group by 1\n",
    ")\n",
    "\n",
    "select title, length from film\n",
    "where length between (select avg_length from rata_panjang where rating='G') and (select avg_length from rata_panjang where rating='pg-13')\n",
    "''')"
   ]
  },
  {
   "cell_type": "code",
   "execution_count": 103,
   "metadata": {},
   "outputs": [],
   "source": [
    "#Koneksi ke database\n",
    "mydb = mysql.connector.connect(\n",
    "host = 'localhost',\n",
    "user = 'root',\n",
    "passwd = '*****',\n",
    "database = 'world')"
   ]
  },
  {
   "cell_type": "code",
   "execution_count": 106,
   "metadata": {},
   "outputs": [],
   "source": [
    "#fungsi\n",
    "kursor = mydb.cursor()\n",
    "def sql(query) :\n",
    "    kursor.execute(query)\n",
    "    hasil = kursor.fetchall()\n",
    "    data = pd.DataFrame(data = hasil, columns = kursor.column_names)\n",
    "    return data"
   ]
  },
  {
   "cell_type": "code",
   "execution_count": 107,
   "metadata": {},
   "outputs": [
    {
     "output_type": "execute_result",
     "data": {
      "text/plain": [
       "    Code          Name      Continent                     Region  SurfaceArea  \\\n",
       "0    ABW         Aruba  North America                  Caribbean        193.0   \n",
       "1    AFG   Afghanistan           Asia  Southern and Central Asia     652090.0   \n",
       "2    AGO        Angola         Africa             Central Africa    1246700.0   \n",
       "3    AIA      Anguilla  North America                  Caribbean         96.0   \n",
       "4    ALB       Albania         Europe            Southern Europe      28748.0   \n",
       "..   ...           ...            ...                        ...          ...   \n",
       "234  YEM         Yemen           Asia                Middle East     527968.0   \n",
       "235  YUG    Yugoslavia         Europe            Southern Europe     102173.0   \n",
       "236  ZAF  South Africa         Africa            Southern Africa    1221037.0   \n",
       "237  ZMB        Zambia         Africa             Eastern Africa     752618.0   \n",
       "238  ZWE      Zimbabwe         Africa             Eastern Africa     390757.0   \n",
       "\n",
       "     IndepYear  Population  LifeExpectancy       GNP    GNPOld  \\\n",
       "0          NaN      103000            78.4     828.0     793.0   \n",
       "1       1919.0    22720000            45.9    5976.0       NaN   \n",
       "2       1975.0    12878000            38.3    6648.0    7984.0   \n",
       "3          NaN        8000            76.1      63.2       NaN   \n",
       "4       1912.0     3401200            71.6    3205.0    2500.0   \n",
       "..         ...         ...             ...       ...       ...   \n",
       "234     1918.0    18112000            59.8    6041.0    5729.0   \n",
       "235     1918.0    10640000            72.4   17000.0       NaN   \n",
       "236     1910.0    40377000            51.1  116729.0  129092.0   \n",
       "237     1964.0     9169000            37.2    3377.0    3922.0   \n",
       "238     1980.0    11669000            37.8    5951.0    8670.0   \n",
       "\n",
       "                 LocalName                                GovernmentForm  \\\n",
       "0                    Aruba  Nonmetropolitan Territory of The Netherlands   \n",
       "1    Afganistan/Afqanestan                               Islamic Emirate   \n",
       "2                   Angola                                      Republic   \n",
       "3                 Anguilla                 Dependent Territory of the UK   \n",
       "4               ShqipÃ«ria                                      Republic   \n",
       "..                     ...                                           ...   \n",
       "234               Al-Yaman                                      Republic   \n",
       "235            Jugoslavija                              Federal Republic   \n",
       "236           South Africa                                      Republic   \n",
       "237                 Zambia                                      Republic   \n",
       "238               Zimbabwe                                      Republic   \n",
       "\n",
       "                  HeadOfState  Capital Code2  \n",
       "0                     Beatrix    129.0    AW  \n",
       "1               Mohammad Omar      1.0    AF  \n",
       "2    JosÃ© Eduardo dos Santos     56.0    AO  \n",
       "3                Elisabeth II     62.0    AI  \n",
       "4              Rexhep Mejdani     34.0    AL  \n",
       "..                        ...      ...   ...  \n",
       "234        Ali Abdallah Salih   1780.0    YE  \n",
       "235       Vojislav KoÂštunica   1792.0    YU  \n",
       "236               Thabo Mbeki    716.0    ZA  \n",
       "237         Frederick Chiluba   3162.0    ZM  \n",
       "238          Robert G. Mugabe   4068.0    ZW  \n",
       "\n",
       "[239 rows x 15 columns]"
      ],
      "text/html": "<div>\n<style scoped>\n    .dataframe tbody tr th:only-of-type {\n        vertical-align: middle;\n    }\n\n    .dataframe tbody tr th {\n        vertical-align: top;\n    }\n\n    .dataframe thead th {\n        text-align: right;\n    }\n</style>\n<table border=\"1\" class=\"dataframe\">\n  <thead>\n    <tr style=\"text-align: right;\">\n      <th></th>\n      <th>Code</th>\n      <th>Name</th>\n      <th>Continent</th>\n      <th>Region</th>\n      <th>SurfaceArea</th>\n      <th>IndepYear</th>\n      <th>Population</th>\n      <th>LifeExpectancy</th>\n      <th>GNP</th>\n      <th>GNPOld</th>\n      <th>LocalName</th>\n      <th>GovernmentForm</th>\n      <th>HeadOfState</th>\n      <th>Capital</th>\n      <th>Code2</th>\n    </tr>\n  </thead>\n  <tbody>\n    <tr>\n      <th>0</th>\n      <td>ABW</td>\n      <td>Aruba</td>\n      <td>North America</td>\n      <td>Caribbean</td>\n      <td>193.0</td>\n      <td>NaN</td>\n      <td>103000</td>\n      <td>78.4</td>\n      <td>828.0</td>\n      <td>793.0</td>\n      <td>Aruba</td>\n      <td>Nonmetropolitan Territory of The Netherlands</td>\n      <td>Beatrix</td>\n      <td>129.0</td>\n      <td>AW</td>\n    </tr>\n    <tr>\n      <th>1</th>\n      <td>AFG</td>\n      <td>Afghanistan</td>\n      <td>Asia</td>\n      <td>Southern and Central Asia</td>\n      <td>652090.0</td>\n      <td>1919.0</td>\n      <td>22720000</td>\n      <td>45.9</td>\n      <td>5976.0</td>\n      <td>NaN</td>\n      <td>Afganistan/Afqanestan</td>\n      <td>Islamic Emirate</td>\n      <td>Mohammad Omar</td>\n      <td>1.0</td>\n      <td>AF</td>\n    </tr>\n    <tr>\n      <th>2</th>\n      <td>AGO</td>\n      <td>Angola</td>\n      <td>Africa</td>\n      <td>Central Africa</td>\n      <td>1246700.0</td>\n      <td>1975.0</td>\n      <td>12878000</td>\n      <td>38.3</td>\n      <td>6648.0</td>\n      <td>7984.0</td>\n      <td>Angola</td>\n      <td>Republic</td>\n      <td>JosÃ© Eduardo dos Santos</td>\n      <td>56.0</td>\n      <td>AO</td>\n    </tr>\n    <tr>\n      <th>3</th>\n      <td>AIA</td>\n      <td>Anguilla</td>\n      <td>North America</td>\n      <td>Caribbean</td>\n      <td>96.0</td>\n      <td>NaN</td>\n      <td>8000</td>\n      <td>76.1</td>\n      <td>63.2</td>\n      <td>NaN</td>\n      <td>Anguilla</td>\n      <td>Dependent Territory of the UK</td>\n      <td>Elisabeth II</td>\n      <td>62.0</td>\n      <td>AI</td>\n    </tr>\n    <tr>\n      <th>4</th>\n      <td>ALB</td>\n      <td>Albania</td>\n      <td>Europe</td>\n      <td>Southern Europe</td>\n      <td>28748.0</td>\n      <td>1912.0</td>\n      <td>3401200</td>\n      <td>71.6</td>\n      <td>3205.0</td>\n      <td>2500.0</td>\n      <td>ShqipÃ«ria</td>\n      <td>Republic</td>\n      <td>Rexhep Mejdani</td>\n      <td>34.0</td>\n      <td>AL</td>\n    </tr>\n    <tr>\n      <th>...</th>\n      <td>...</td>\n      <td>...</td>\n      <td>...</td>\n      <td>...</td>\n      <td>...</td>\n      <td>...</td>\n      <td>...</td>\n      <td>...</td>\n      <td>...</td>\n      <td>...</td>\n      <td>...</td>\n      <td>...</td>\n      <td>...</td>\n      <td>...</td>\n      <td>...</td>\n    </tr>\n    <tr>\n      <th>234</th>\n      <td>YEM</td>\n      <td>Yemen</td>\n      <td>Asia</td>\n      <td>Middle East</td>\n      <td>527968.0</td>\n      <td>1918.0</td>\n      <td>18112000</td>\n      <td>59.8</td>\n      <td>6041.0</td>\n      <td>5729.0</td>\n      <td>Al-Yaman</td>\n      <td>Republic</td>\n      <td>Ali Abdallah Salih</td>\n      <td>1780.0</td>\n      <td>YE</td>\n    </tr>\n    <tr>\n      <th>235</th>\n      <td>YUG</td>\n      <td>Yugoslavia</td>\n      <td>Europe</td>\n      <td>Southern Europe</td>\n      <td>102173.0</td>\n      <td>1918.0</td>\n      <td>10640000</td>\n      <td>72.4</td>\n      <td>17000.0</td>\n      <td>NaN</td>\n      <td>Jugoslavija</td>\n      <td>Federal Republic</td>\n      <td>Vojislav KoÂštunica</td>\n      <td>1792.0</td>\n      <td>YU</td>\n    </tr>\n    <tr>\n      <th>236</th>\n      <td>ZAF</td>\n      <td>South Africa</td>\n      <td>Africa</td>\n      <td>Southern Africa</td>\n      <td>1221037.0</td>\n      <td>1910.0</td>\n      <td>40377000</td>\n      <td>51.1</td>\n      <td>116729.0</td>\n      <td>129092.0</td>\n      <td>South Africa</td>\n      <td>Republic</td>\n      <td>Thabo Mbeki</td>\n      <td>716.0</td>\n      <td>ZA</td>\n    </tr>\n    <tr>\n      <th>237</th>\n      <td>ZMB</td>\n      <td>Zambia</td>\n      <td>Africa</td>\n      <td>Eastern Africa</td>\n      <td>752618.0</td>\n      <td>1964.0</td>\n      <td>9169000</td>\n      <td>37.2</td>\n      <td>3377.0</td>\n      <td>3922.0</td>\n      <td>Zambia</td>\n      <td>Republic</td>\n      <td>Frederick Chiluba</td>\n      <td>3162.0</td>\n      <td>ZM</td>\n    </tr>\n    <tr>\n      <th>238</th>\n      <td>ZWE</td>\n      <td>Zimbabwe</td>\n      <td>Africa</td>\n      <td>Eastern Africa</td>\n      <td>390757.0</td>\n      <td>1980.0</td>\n      <td>11669000</td>\n      <td>37.8</td>\n      <td>5951.0</td>\n      <td>8670.0</td>\n      <td>Zimbabwe</td>\n      <td>Republic</td>\n      <td>Robert G. Mugabe</td>\n      <td>4068.0</td>\n      <td>ZW</td>\n    </tr>\n  </tbody>\n</table>\n<p>239 rows × 15 columns</p>\n</div>"
     },
     "metadata": {},
     "execution_count": 107
    }
   ],
   "source": [
    "sql('select * from country')"
   ]
  },
  {
   "cell_type": "code",
   "execution_count": 50,
   "metadata": {},
   "outputs": [
    {
     "output_type": "execute_result",
     "data": {
      "text/plain": [
       "  avg(population)\n",
       "0   25434098.1172"
      ],
      "text/html": "<div>\n<style scoped>\n    .dataframe tbody tr th:only-of-type {\n        vertical-align: middle;\n    }\n\n    .dataframe tbody tr th {\n        vertical-align: top;\n    }\n\n    .dataframe thead th {\n        text-align: right;\n    }\n</style>\n<table border=\"1\" class=\"dataframe\">\n  <thead>\n    <tr style=\"text-align: right;\">\n      <th></th>\n      <th>avg(population)</th>\n    </tr>\n  </thead>\n  <tbody>\n    <tr>\n      <th>0</th>\n      <td>25434098.1172</td>\n    </tr>\n  </tbody>\n</table>\n</div>"
     },
     "metadata": {},
     "execution_count": 50
    }
   ],
   "source": [
    "#tanpa over()\n",
    "sql('select avg(population) from country')"
   ]
  },
  {
   "cell_type": "code",
   "execution_count": 52,
   "metadata": {},
   "outputs": [
    {
     "output_type": "execute_result",
     "data": {
      "text/plain": [
       "             name  population  rata_populasi\n",
       "0           Aruba      103000  25434098.1172\n",
       "1     Afghanistan    22720000  25434098.1172\n",
       "2          Angola    12878000  25434098.1172\n",
       "3        Anguilla        8000  25434098.1172\n",
       "4         Albania     3401200  25434098.1172\n",
       "..            ...         ...            ...\n",
       "234         Yemen    18112000  25434098.1172\n",
       "235    Yugoslavia    10640000  25434098.1172\n",
       "236  South Africa    40377000  25434098.1172\n",
       "237        Zambia     9169000  25434098.1172\n",
       "238      Zimbabwe    11669000  25434098.1172\n",
       "\n",
       "[239 rows x 3 columns]"
      ],
      "text/html": "<div>\n<style scoped>\n    .dataframe tbody tr th:only-of-type {\n        vertical-align: middle;\n    }\n\n    .dataframe tbody tr th {\n        vertical-align: top;\n    }\n\n    .dataframe thead th {\n        text-align: right;\n    }\n</style>\n<table border=\"1\" class=\"dataframe\">\n  <thead>\n    <tr style=\"text-align: right;\">\n      <th></th>\n      <th>name</th>\n      <th>population</th>\n      <th>rata_populasi</th>\n    </tr>\n  </thead>\n  <tbody>\n    <tr>\n      <th>0</th>\n      <td>Aruba</td>\n      <td>103000</td>\n      <td>25434098.1172</td>\n    </tr>\n    <tr>\n      <th>1</th>\n      <td>Afghanistan</td>\n      <td>22720000</td>\n      <td>25434098.1172</td>\n    </tr>\n    <tr>\n      <th>2</th>\n      <td>Angola</td>\n      <td>12878000</td>\n      <td>25434098.1172</td>\n    </tr>\n    <tr>\n      <th>3</th>\n      <td>Anguilla</td>\n      <td>8000</td>\n      <td>25434098.1172</td>\n    </tr>\n    <tr>\n      <th>4</th>\n      <td>Albania</td>\n      <td>3401200</td>\n      <td>25434098.1172</td>\n    </tr>\n    <tr>\n      <th>...</th>\n      <td>...</td>\n      <td>...</td>\n      <td>...</td>\n    </tr>\n    <tr>\n      <th>234</th>\n      <td>Yemen</td>\n      <td>18112000</td>\n      <td>25434098.1172</td>\n    </tr>\n    <tr>\n      <th>235</th>\n      <td>Yugoslavia</td>\n      <td>10640000</td>\n      <td>25434098.1172</td>\n    </tr>\n    <tr>\n      <th>236</th>\n      <td>South Africa</td>\n      <td>40377000</td>\n      <td>25434098.1172</td>\n    </tr>\n    <tr>\n      <th>237</th>\n      <td>Zambia</td>\n      <td>9169000</td>\n      <td>25434098.1172</td>\n    </tr>\n    <tr>\n      <th>238</th>\n      <td>Zimbabwe</td>\n      <td>11669000</td>\n      <td>25434098.1172</td>\n    </tr>\n  </tbody>\n</table>\n<p>239 rows × 3 columns</p>\n</div>"
     },
     "metadata": {},
     "execution_count": 52
    }
   ],
   "source": [
    "#dengan over()\n",
    "#Perhatikan isi kolom rata populasi\n",
    "sql(''' \n",
    "select name, population, avg(population) over () as rata_populasi\n",
    "from country\n",
    "''')"
   ]
  },
  {
   "cell_type": "code",
   "execution_count": 53,
   "metadata": {},
   "outputs": [
    {
     "output_type": "execute_result",
     "data": {
      "text/plain": [
       "             name  population  rata_populasi selisih_populasi\n",
       "0           Aruba      103000  25434098.1172   -25331098.1172\n",
       "1     Afghanistan    22720000  25434098.1172    -2714098.1172\n",
       "2          Angola    12878000  25434098.1172   -12556098.1172\n",
       "3        Anguilla        8000  25434098.1172   -25426098.1172\n",
       "4         Albania     3401200  25434098.1172   -22032898.1172\n",
       "..            ...         ...            ...              ...\n",
       "234         Yemen    18112000  25434098.1172    -7322098.1172\n",
       "235    Yugoslavia    10640000  25434098.1172   -14794098.1172\n",
       "236  South Africa    40377000  25434098.1172    14942901.8828\n",
       "237        Zambia     9169000  25434098.1172   -16265098.1172\n",
       "238      Zimbabwe    11669000  25434098.1172   -13765098.1172\n",
       "\n",
       "[239 rows x 4 columns]"
      ],
      "text/html": "<div>\n<style scoped>\n    .dataframe tbody tr th:only-of-type {\n        vertical-align: middle;\n    }\n\n    .dataframe tbody tr th {\n        vertical-align: top;\n    }\n\n    .dataframe thead th {\n        text-align: right;\n    }\n</style>\n<table border=\"1\" class=\"dataframe\">\n  <thead>\n    <tr style=\"text-align: right;\">\n      <th></th>\n      <th>name</th>\n      <th>population</th>\n      <th>rata_populasi</th>\n      <th>selisih_populasi</th>\n    </tr>\n  </thead>\n  <tbody>\n    <tr>\n      <th>0</th>\n      <td>Aruba</td>\n      <td>103000</td>\n      <td>25434098.1172</td>\n      <td>-25331098.1172</td>\n    </tr>\n    <tr>\n      <th>1</th>\n      <td>Afghanistan</td>\n      <td>22720000</td>\n      <td>25434098.1172</td>\n      <td>-2714098.1172</td>\n    </tr>\n    <tr>\n      <th>2</th>\n      <td>Angola</td>\n      <td>12878000</td>\n      <td>25434098.1172</td>\n      <td>-12556098.1172</td>\n    </tr>\n    <tr>\n      <th>3</th>\n      <td>Anguilla</td>\n      <td>8000</td>\n      <td>25434098.1172</td>\n      <td>-25426098.1172</td>\n    </tr>\n    <tr>\n      <th>4</th>\n      <td>Albania</td>\n      <td>3401200</td>\n      <td>25434098.1172</td>\n      <td>-22032898.1172</td>\n    </tr>\n    <tr>\n      <th>...</th>\n      <td>...</td>\n      <td>...</td>\n      <td>...</td>\n      <td>...</td>\n    </tr>\n    <tr>\n      <th>234</th>\n      <td>Yemen</td>\n      <td>18112000</td>\n      <td>25434098.1172</td>\n      <td>-7322098.1172</td>\n    </tr>\n    <tr>\n      <th>235</th>\n      <td>Yugoslavia</td>\n      <td>10640000</td>\n      <td>25434098.1172</td>\n      <td>-14794098.1172</td>\n    </tr>\n    <tr>\n      <th>236</th>\n      <td>South Africa</td>\n      <td>40377000</td>\n      <td>25434098.1172</td>\n      <td>14942901.8828</td>\n    </tr>\n    <tr>\n      <th>237</th>\n      <td>Zambia</td>\n      <td>9169000</td>\n      <td>25434098.1172</td>\n      <td>-16265098.1172</td>\n    </tr>\n    <tr>\n      <th>238</th>\n      <td>Zimbabwe</td>\n      <td>11669000</td>\n      <td>25434098.1172</td>\n      <td>-13765098.1172</td>\n    </tr>\n  </tbody>\n</table>\n<p>239 rows × 4 columns</p>\n</div>"
     },
     "metadata": {},
     "execution_count": 53
    }
   ],
   "source": [
    "#contoh penggunaan over: mencari selisih populasi suatu negara dengan rata-rata populasi dunia \n",
    "\n",
    "sql(''' \n",
    "select name, population, \n",
    "avg(population) over () as rata_populasi,\n",
    "population-avg(population) over () as selisih_populasi\n",
    "from country\n",
    "''')"
   ]
  },
  {
   "cell_type": "code",
   "execution_count": 54,
   "metadata": {},
   "outputs": [
    {
     "output_type": "execute_result",
     "data": {
      "text/plain": [
       "       continent avg(population)\n",
       "0  North America   13053864.8649\n",
       "1           Asia   72647562.7451\n",
       "2         Africa   13525431.0345\n",
       "3         Europe   15871186.9565\n",
       "4  South America   24698571.4286\n",
       "5        Oceania    1085755.3571\n",
       "6     Antarctica          0.0000"
      ],
      "text/html": "<div>\n<style scoped>\n    .dataframe tbody tr th:only-of-type {\n        vertical-align: middle;\n    }\n\n    .dataframe tbody tr th {\n        vertical-align: top;\n    }\n\n    .dataframe thead th {\n        text-align: right;\n    }\n</style>\n<table border=\"1\" class=\"dataframe\">\n  <thead>\n    <tr style=\"text-align: right;\">\n      <th></th>\n      <th>continent</th>\n      <th>avg(population)</th>\n    </tr>\n  </thead>\n  <tbody>\n    <tr>\n      <th>0</th>\n      <td>North America</td>\n      <td>13053864.8649</td>\n    </tr>\n    <tr>\n      <th>1</th>\n      <td>Asia</td>\n      <td>72647562.7451</td>\n    </tr>\n    <tr>\n      <th>2</th>\n      <td>Africa</td>\n      <td>13525431.0345</td>\n    </tr>\n    <tr>\n      <th>3</th>\n      <td>Europe</td>\n      <td>15871186.9565</td>\n    </tr>\n    <tr>\n      <th>4</th>\n      <td>South America</td>\n      <td>24698571.4286</td>\n    </tr>\n    <tr>\n      <th>5</th>\n      <td>Oceania</td>\n      <td>1085755.3571</td>\n    </tr>\n    <tr>\n      <th>6</th>\n      <td>Antarctica</td>\n      <td>0.0000</td>\n    </tr>\n  </tbody>\n</table>\n</div>"
     },
     "metadata": {},
     "execution_count": 54
    }
   ],
   "source": [
    "#group by\n",
    "sql(''' \n",
    "select continent, avg(population) from country\n",
    "group by continent\n",
    "''')"
   ]
  },
  {
   "cell_type": "code",
   "execution_count": 56,
   "metadata": {},
   "outputs": [
    {
     "output_type": "execute_result",
     "data": {
      "text/plain": [
       "                     name      continent  population  rata_populasi\n",
       "0             Afghanistan           Asia    22720000  72647562.7451\n",
       "1    United Arab Emirates           Asia     2441000  72647562.7451\n",
       "2                 Armenia           Asia     3520000  72647562.7451\n",
       "3              Azerbaijan           Asia     7734000  72647562.7451\n",
       "4              Bangladesh           Asia   129155000  72647562.7451\n",
       "..                    ...            ...         ...            ...\n",
       "234                  Peru  South America    25662000  24698571.4286\n",
       "235              Paraguay  South America     5496000  24698571.4286\n",
       "236              Suriname  South America      417000  24698571.4286\n",
       "237               Uruguay  South America     3337000  24698571.4286\n",
       "238             Venezuela  South America    24170000  24698571.4286\n",
       "\n",
       "[239 rows x 4 columns]"
      ],
      "text/html": "<div>\n<style scoped>\n    .dataframe tbody tr th:only-of-type {\n        vertical-align: middle;\n    }\n\n    .dataframe tbody tr th {\n        vertical-align: top;\n    }\n\n    .dataframe thead th {\n        text-align: right;\n    }\n</style>\n<table border=\"1\" class=\"dataframe\">\n  <thead>\n    <tr style=\"text-align: right;\">\n      <th></th>\n      <th>name</th>\n      <th>continent</th>\n      <th>population</th>\n      <th>rata_populasi</th>\n    </tr>\n  </thead>\n  <tbody>\n    <tr>\n      <th>0</th>\n      <td>Afghanistan</td>\n      <td>Asia</td>\n      <td>22720000</td>\n      <td>72647562.7451</td>\n    </tr>\n    <tr>\n      <th>1</th>\n      <td>United Arab Emirates</td>\n      <td>Asia</td>\n      <td>2441000</td>\n      <td>72647562.7451</td>\n    </tr>\n    <tr>\n      <th>2</th>\n      <td>Armenia</td>\n      <td>Asia</td>\n      <td>3520000</td>\n      <td>72647562.7451</td>\n    </tr>\n    <tr>\n      <th>3</th>\n      <td>Azerbaijan</td>\n      <td>Asia</td>\n      <td>7734000</td>\n      <td>72647562.7451</td>\n    </tr>\n    <tr>\n      <th>4</th>\n      <td>Bangladesh</td>\n      <td>Asia</td>\n      <td>129155000</td>\n      <td>72647562.7451</td>\n    </tr>\n    <tr>\n      <th>...</th>\n      <td>...</td>\n      <td>...</td>\n      <td>...</td>\n      <td>...</td>\n    </tr>\n    <tr>\n      <th>234</th>\n      <td>Peru</td>\n      <td>South America</td>\n      <td>25662000</td>\n      <td>24698571.4286</td>\n    </tr>\n    <tr>\n      <th>235</th>\n      <td>Paraguay</td>\n      <td>South America</td>\n      <td>5496000</td>\n      <td>24698571.4286</td>\n    </tr>\n    <tr>\n      <th>236</th>\n      <td>Suriname</td>\n      <td>South America</td>\n      <td>417000</td>\n      <td>24698571.4286</td>\n    </tr>\n    <tr>\n      <th>237</th>\n      <td>Uruguay</td>\n      <td>South America</td>\n      <td>3337000</td>\n      <td>24698571.4286</td>\n    </tr>\n    <tr>\n      <th>238</th>\n      <td>Venezuela</td>\n      <td>South America</td>\n      <td>24170000</td>\n      <td>24698571.4286</td>\n    </tr>\n  </tbody>\n</table>\n<p>239 rows × 4 columns</p>\n</div>"
     },
     "metadata": {},
     "execution_count": 56
    }
   ],
   "source": [
    "# over partition, perhatikan isi kolom rata populasi\n",
    "sql('''\n",
    "select name, continent, population,\n",
    "avg(population) over (partition by continent) as rata_populasi\n",
    "from country\n",
    "''')"
   ]
  },
  {
   "cell_type": "code",
   "execution_count": 57,
   "metadata": {},
   "outputs": [
    {
     "output_type": "execute_result",
     "data": {
      "text/plain": [
       "                     name      continent  population  rata_populasi  \\\n",
       "0             Afghanistan           Asia    22720000  72647562.7451   \n",
       "1    United Arab Emirates           Asia     2441000  72647562.7451   \n",
       "2                 Armenia           Asia     3520000  72647562.7451   \n",
       "3              Azerbaijan           Asia     7734000  72647562.7451   \n",
       "4              Bangladesh           Asia   129155000  72647562.7451   \n",
       "..                    ...            ...         ...            ...   \n",
       "234                  Peru  South America    25662000  24698571.4286   \n",
       "235              Paraguay  South America     5496000  24698571.4286   \n",
       "236              Suriname  South America      417000  24698571.4286   \n",
       "237               Uruguay  South America     3337000  24698571.4286   \n",
       "238             Venezuela  South America    24170000  24698571.4286   \n",
       "\n",
       "    selisih_populasi  \n",
       "0     -49927562.7451  \n",
       "1     -70206562.7451  \n",
       "2     -69127562.7451  \n",
       "3     -64913562.7451  \n",
       "4      56507437.2549  \n",
       "..               ...  \n",
       "234      963428.5714  \n",
       "235   -19202571.4286  \n",
       "236   -24281571.4286  \n",
       "237   -21361571.4286  \n",
       "238     -528571.4286  \n",
       "\n",
       "[239 rows x 5 columns]"
      ],
      "text/html": "<div>\n<style scoped>\n    .dataframe tbody tr th:only-of-type {\n        vertical-align: middle;\n    }\n\n    .dataframe tbody tr th {\n        vertical-align: top;\n    }\n\n    .dataframe thead th {\n        text-align: right;\n    }\n</style>\n<table border=\"1\" class=\"dataframe\">\n  <thead>\n    <tr style=\"text-align: right;\">\n      <th></th>\n      <th>name</th>\n      <th>continent</th>\n      <th>population</th>\n      <th>rata_populasi</th>\n      <th>selisih_populasi</th>\n    </tr>\n  </thead>\n  <tbody>\n    <tr>\n      <th>0</th>\n      <td>Afghanistan</td>\n      <td>Asia</td>\n      <td>22720000</td>\n      <td>72647562.7451</td>\n      <td>-49927562.7451</td>\n    </tr>\n    <tr>\n      <th>1</th>\n      <td>United Arab Emirates</td>\n      <td>Asia</td>\n      <td>2441000</td>\n      <td>72647562.7451</td>\n      <td>-70206562.7451</td>\n    </tr>\n    <tr>\n      <th>2</th>\n      <td>Armenia</td>\n      <td>Asia</td>\n      <td>3520000</td>\n      <td>72647562.7451</td>\n      <td>-69127562.7451</td>\n    </tr>\n    <tr>\n      <th>3</th>\n      <td>Azerbaijan</td>\n      <td>Asia</td>\n      <td>7734000</td>\n      <td>72647562.7451</td>\n      <td>-64913562.7451</td>\n    </tr>\n    <tr>\n      <th>4</th>\n      <td>Bangladesh</td>\n      <td>Asia</td>\n      <td>129155000</td>\n      <td>72647562.7451</td>\n      <td>56507437.2549</td>\n    </tr>\n    <tr>\n      <th>...</th>\n      <td>...</td>\n      <td>...</td>\n      <td>...</td>\n      <td>...</td>\n      <td>...</td>\n    </tr>\n    <tr>\n      <th>234</th>\n      <td>Peru</td>\n      <td>South America</td>\n      <td>25662000</td>\n      <td>24698571.4286</td>\n      <td>963428.5714</td>\n    </tr>\n    <tr>\n      <th>235</th>\n      <td>Paraguay</td>\n      <td>South America</td>\n      <td>5496000</td>\n      <td>24698571.4286</td>\n      <td>-19202571.4286</td>\n    </tr>\n    <tr>\n      <th>236</th>\n      <td>Suriname</td>\n      <td>South America</td>\n      <td>417000</td>\n      <td>24698571.4286</td>\n      <td>-24281571.4286</td>\n    </tr>\n    <tr>\n      <th>237</th>\n      <td>Uruguay</td>\n      <td>South America</td>\n      <td>3337000</td>\n      <td>24698571.4286</td>\n      <td>-21361571.4286</td>\n    </tr>\n    <tr>\n      <th>238</th>\n      <td>Venezuela</td>\n      <td>South America</td>\n      <td>24170000</td>\n      <td>24698571.4286</td>\n      <td>-528571.4286</td>\n    </tr>\n  </tbody>\n</table>\n<p>239 rows × 5 columns</p>\n</div>"
     },
     "metadata": {},
     "execution_count": 57
    }
   ],
   "source": [
    "# mencari selisih populasi suatu negara dengan rata-rata populasi benuanya\n",
    "sql('''\n",
    "select name, continent, population,\n",
    "avg(population) over (partition by continent) as rata_populasi,\n",
    "population-avg(population) over (partition by continent) as selisih_populasi\n",
    "from country\n",
    "''')"
   ]
  },
  {
   "cell_type": "code",
   "execution_count": 64,
   "metadata": {},
   "outputs": [
    {
     "output_type": "execute_result",
     "data": {
      "text/plain": [
       "                     name      continent  nomor\n",
       "0             Afghanistan           Asia      1\n",
       "1    United Arab Emirates           Asia      2\n",
       "2                 Armenia           Asia      3\n",
       "3              Azerbaijan           Asia      4\n",
       "4              Bangladesh           Asia      5\n",
       "..                    ...            ...    ...\n",
       "234                  Peru  South America     10\n",
       "235              Paraguay  South America     11\n",
       "236              Suriname  South America     12\n",
       "237               Uruguay  South America     13\n",
       "238             Venezuela  South America     14\n",
       "\n",
       "[239 rows x 3 columns]"
      ],
      "text/html": "<div>\n<style scoped>\n    .dataframe tbody tr th:only-of-type {\n        vertical-align: middle;\n    }\n\n    .dataframe tbody tr th {\n        vertical-align: top;\n    }\n\n    .dataframe thead th {\n        text-align: right;\n    }\n</style>\n<table border=\"1\" class=\"dataframe\">\n  <thead>\n    <tr style=\"text-align: right;\">\n      <th></th>\n      <th>name</th>\n      <th>continent</th>\n      <th>nomor</th>\n    </tr>\n  </thead>\n  <tbody>\n    <tr>\n      <th>0</th>\n      <td>Afghanistan</td>\n      <td>Asia</td>\n      <td>1</td>\n    </tr>\n    <tr>\n      <th>1</th>\n      <td>United Arab Emirates</td>\n      <td>Asia</td>\n      <td>2</td>\n    </tr>\n    <tr>\n      <th>2</th>\n      <td>Armenia</td>\n      <td>Asia</td>\n      <td>3</td>\n    </tr>\n    <tr>\n      <th>3</th>\n      <td>Azerbaijan</td>\n      <td>Asia</td>\n      <td>4</td>\n    </tr>\n    <tr>\n      <th>4</th>\n      <td>Bangladesh</td>\n      <td>Asia</td>\n      <td>5</td>\n    </tr>\n    <tr>\n      <th>...</th>\n      <td>...</td>\n      <td>...</td>\n      <td>...</td>\n    </tr>\n    <tr>\n      <th>234</th>\n      <td>Peru</td>\n      <td>South America</td>\n      <td>10</td>\n    </tr>\n    <tr>\n      <th>235</th>\n      <td>Paraguay</td>\n      <td>South America</td>\n      <td>11</td>\n    </tr>\n    <tr>\n      <th>236</th>\n      <td>Suriname</td>\n      <td>South America</td>\n      <td>12</td>\n    </tr>\n    <tr>\n      <th>237</th>\n      <td>Uruguay</td>\n      <td>South America</td>\n      <td>13</td>\n    </tr>\n    <tr>\n      <th>238</th>\n      <td>Venezuela</td>\n      <td>South America</td>\n      <td>14</td>\n    </tr>\n  </tbody>\n</table>\n<p>239 rows × 3 columns</p>\n</div>"
     },
     "metadata": {},
     "execution_count": 64
    }
   ],
   "source": [
    "#row_number() --> membuat kolom baru berisikan index baris\n",
    "sql('''\n",
    "select  name, continent, \n",
    "ROW_NUMBER() OVER (PARTITION BY CONTINENT) as nomor\n",
    "from country\n",
    "''')"
   ]
  },
  {
   "cell_type": "code",
   "execution_count": 63,
   "metadata": {},
   "outputs": [
    {
     "output_type": "execute_result",
     "data": {
      "text/plain": [
       "                           name      continent  nomor\n",
       "0                   Afghanistan           Asia      1\n",
       "1          United Arab Emirates           Asia      2\n",
       "2                       Armenia           Asia      3\n",
       "3                       Albania         Europe      1\n",
       "4                       Andorra         Europe      2\n",
       "5                       Austria         Europe      3\n",
       "6                         Aruba  North America      1\n",
       "7                      Anguilla  North America      2\n",
       "8          Netherlands Antilles  North America      3\n",
       "9                        Angola         Africa      1\n",
       "10                      Burundi         Africa      2\n",
       "11                        Benin         Africa      3\n",
       "12               American Samoa        Oceania      1\n",
       "13                    Australia        Oceania      2\n",
       "14      Cocos (Keeling) Islands        Oceania      3\n",
       "15                   Antarctica     Antarctica      1\n",
       "16  French Southern territories     Antarctica      2\n",
       "17                Bouvet Island     Antarctica      3\n",
       "18                    Argentina  South America      1\n",
       "19                      Bolivia  South America      2\n",
       "20                       Brazil  South America      3"
      ],
      "text/html": "<div>\n<style scoped>\n    .dataframe tbody tr th:only-of-type {\n        vertical-align: middle;\n    }\n\n    .dataframe tbody tr th {\n        vertical-align: top;\n    }\n\n    .dataframe thead th {\n        text-align: right;\n    }\n</style>\n<table border=\"1\" class=\"dataframe\">\n  <thead>\n    <tr style=\"text-align: right;\">\n      <th></th>\n      <th>name</th>\n      <th>continent</th>\n      <th>nomor</th>\n    </tr>\n  </thead>\n  <tbody>\n    <tr>\n      <th>0</th>\n      <td>Afghanistan</td>\n      <td>Asia</td>\n      <td>1</td>\n    </tr>\n    <tr>\n      <th>1</th>\n      <td>United Arab Emirates</td>\n      <td>Asia</td>\n      <td>2</td>\n    </tr>\n    <tr>\n      <th>2</th>\n      <td>Armenia</td>\n      <td>Asia</td>\n      <td>3</td>\n    </tr>\n    <tr>\n      <th>3</th>\n      <td>Albania</td>\n      <td>Europe</td>\n      <td>1</td>\n    </tr>\n    <tr>\n      <th>4</th>\n      <td>Andorra</td>\n      <td>Europe</td>\n      <td>2</td>\n    </tr>\n    <tr>\n      <th>5</th>\n      <td>Austria</td>\n      <td>Europe</td>\n      <td>3</td>\n    </tr>\n    <tr>\n      <th>6</th>\n      <td>Aruba</td>\n      <td>North America</td>\n      <td>1</td>\n    </tr>\n    <tr>\n      <th>7</th>\n      <td>Anguilla</td>\n      <td>North America</td>\n      <td>2</td>\n    </tr>\n    <tr>\n      <th>8</th>\n      <td>Netherlands Antilles</td>\n      <td>North America</td>\n      <td>3</td>\n    </tr>\n    <tr>\n      <th>9</th>\n      <td>Angola</td>\n      <td>Africa</td>\n      <td>1</td>\n    </tr>\n    <tr>\n      <th>10</th>\n      <td>Burundi</td>\n      <td>Africa</td>\n      <td>2</td>\n    </tr>\n    <tr>\n      <th>11</th>\n      <td>Benin</td>\n      <td>Africa</td>\n      <td>3</td>\n    </tr>\n    <tr>\n      <th>12</th>\n      <td>American Samoa</td>\n      <td>Oceania</td>\n      <td>1</td>\n    </tr>\n    <tr>\n      <th>13</th>\n      <td>Australia</td>\n      <td>Oceania</td>\n      <td>2</td>\n    </tr>\n    <tr>\n      <th>14</th>\n      <td>Cocos (Keeling) Islands</td>\n      <td>Oceania</td>\n      <td>3</td>\n    </tr>\n    <tr>\n      <th>15</th>\n      <td>Antarctica</td>\n      <td>Antarctica</td>\n      <td>1</td>\n    </tr>\n    <tr>\n      <th>16</th>\n      <td>French Southern territories</td>\n      <td>Antarctica</td>\n      <td>2</td>\n    </tr>\n    <tr>\n      <th>17</th>\n      <td>Bouvet Island</td>\n      <td>Antarctica</td>\n      <td>3</td>\n    </tr>\n    <tr>\n      <th>18</th>\n      <td>Argentina</td>\n      <td>South America</td>\n      <td>1</td>\n    </tr>\n    <tr>\n      <th>19</th>\n      <td>Bolivia</td>\n      <td>South America</td>\n      <td>2</td>\n    </tr>\n    <tr>\n      <th>20</th>\n      <td>Brazil</td>\n      <td>South America</td>\n      <td>3</td>\n    </tr>\n  </tbody>\n</table>\n</div>"
     },
     "metadata": {},
     "execution_count": 63
    }
   ],
   "source": [
    "sql('''\n",
    "with nomor_baris as(\n",
    "    select  name, continent, \n",
    "    ROW_NUMBER() OVER (PARTITION BY CONTINENT) as nomor\n",
    "    from country\n",
    "    )\n",
    "\n",
    "select * from nomor_baris\n",
    "where nomor <=3\n",
    "''')"
   ]
  },
  {
   "cell_type": "code",
   "execution_count": 68,
   "metadata": {},
   "outputs": [
    {
     "output_type": "execute_result",
     "data": {
      "text/plain": [
       "                                             name      continent  population  \\\n",
       "0                                           China           Asia  1277558000   \n",
       "1                                           India           Asia  1013662000   \n",
       "2                                   United States  North America   278357000   \n",
       "3                                       Indonesia           Asia   212107000   \n",
       "4                                          Brazil  South America   170115000   \n",
       "..                                            ...            ...         ...   \n",
       "234                                 Bouvet Island     Antarctica           0   \n",
       "235             Heard Island and McDonald Islands     Antarctica           0   \n",
       "236                British Indian Ocean Territory         Africa           0   \n",
       "237  South Georgia and the South Sandwich Islands     Antarctica           0   \n",
       "238          United States Minor Outlying Islands        Oceania           0   \n",
       "\n",
       "     rank_pop  \n",
       "0           1  \n",
       "1           2  \n",
       "2           3  \n",
       "3           4  \n",
       "4           5  \n",
       "..        ...  \n",
       "234       233  \n",
       "235       233  \n",
       "236       233  \n",
       "237       233  \n",
       "238       233  \n",
       "\n",
       "[239 rows x 4 columns]"
      ],
      "text/html": "<div>\n<style scoped>\n    .dataframe tbody tr th:only-of-type {\n        vertical-align: middle;\n    }\n\n    .dataframe tbody tr th {\n        vertical-align: top;\n    }\n\n    .dataframe thead th {\n        text-align: right;\n    }\n</style>\n<table border=\"1\" class=\"dataframe\">\n  <thead>\n    <tr style=\"text-align: right;\">\n      <th></th>\n      <th>name</th>\n      <th>continent</th>\n      <th>population</th>\n      <th>rank_pop</th>\n    </tr>\n  </thead>\n  <tbody>\n    <tr>\n      <th>0</th>\n      <td>China</td>\n      <td>Asia</td>\n      <td>1277558000</td>\n      <td>1</td>\n    </tr>\n    <tr>\n      <th>1</th>\n      <td>India</td>\n      <td>Asia</td>\n      <td>1013662000</td>\n      <td>2</td>\n    </tr>\n    <tr>\n      <th>2</th>\n      <td>United States</td>\n      <td>North America</td>\n      <td>278357000</td>\n      <td>3</td>\n    </tr>\n    <tr>\n      <th>3</th>\n      <td>Indonesia</td>\n      <td>Asia</td>\n      <td>212107000</td>\n      <td>4</td>\n    </tr>\n    <tr>\n      <th>4</th>\n      <td>Brazil</td>\n      <td>South America</td>\n      <td>170115000</td>\n      <td>5</td>\n    </tr>\n    <tr>\n      <th>...</th>\n      <td>...</td>\n      <td>...</td>\n      <td>...</td>\n      <td>...</td>\n    </tr>\n    <tr>\n      <th>234</th>\n      <td>Bouvet Island</td>\n      <td>Antarctica</td>\n      <td>0</td>\n      <td>233</td>\n    </tr>\n    <tr>\n      <th>235</th>\n      <td>Heard Island and McDonald Islands</td>\n      <td>Antarctica</td>\n      <td>0</td>\n      <td>233</td>\n    </tr>\n    <tr>\n      <th>236</th>\n      <td>British Indian Ocean Territory</td>\n      <td>Africa</td>\n      <td>0</td>\n      <td>233</td>\n    </tr>\n    <tr>\n      <th>237</th>\n      <td>South Georgia and the South Sandwich Islands</td>\n      <td>Antarctica</td>\n      <td>0</td>\n      <td>233</td>\n    </tr>\n    <tr>\n      <th>238</th>\n      <td>United States Minor Outlying Islands</td>\n      <td>Oceania</td>\n      <td>0</td>\n      <td>233</td>\n    </tr>\n  </tbody>\n</table>\n<p>239 rows × 4 columns</p>\n</div>"
     },
     "metadata": {},
     "execution_count": 68
    }
   ],
   "source": [
    "#rank()--> membuat kolom baru berisikan ranking dari baris tersebut berdasarkan kolom tertentu\n",
    "sql('''\n",
    "select name, continent, population,\n",
    "RANK() OVER (ORDER BY POPULATION desc) as rank_pop\n",
    "from country\n",
    "''')"
   ]
  },
  {
   "cell_type": "code",
   "execution_count": 73,
   "metadata": {},
   "outputs": [
    {
     "output_type": "execute_result",
     "data": {
      "text/plain": [
       "       continent  jumlah_negara avg(population)  rank_pop  rank_total\n",
       "0           Asia             51   72647562.7451         1           2\n",
       "1  South America             14   24698571.4286         2           6\n",
       "2         Europe             46   15871186.9565         3           3\n",
       "3         Africa             58   13525431.0345         4           1\n",
       "4  North America             37   13053864.8649         5           4\n",
       "5        Oceania             28    1085755.3571         6           5\n",
       "6     Antarctica              5          0.0000         7           7"
      ],
      "text/html": "<div>\n<style scoped>\n    .dataframe tbody tr th:only-of-type {\n        vertical-align: middle;\n    }\n\n    .dataframe tbody tr th {\n        vertical-align: top;\n    }\n\n    .dataframe thead th {\n        text-align: right;\n    }\n</style>\n<table border=\"1\" class=\"dataframe\">\n  <thead>\n    <tr style=\"text-align: right;\">\n      <th></th>\n      <th>continent</th>\n      <th>jumlah_negara</th>\n      <th>avg(population)</th>\n      <th>rank_pop</th>\n      <th>rank_total</th>\n    </tr>\n  </thead>\n  <tbody>\n    <tr>\n      <th>0</th>\n      <td>Asia</td>\n      <td>51</td>\n      <td>72647562.7451</td>\n      <td>1</td>\n      <td>2</td>\n    </tr>\n    <tr>\n      <th>1</th>\n      <td>South America</td>\n      <td>14</td>\n      <td>24698571.4286</td>\n      <td>2</td>\n      <td>6</td>\n    </tr>\n    <tr>\n      <th>2</th>\n      <td>Europe</td>\n      <td>46</td>\n      <td>15871186.9565</td>\n      <td>3</td>\n      <td>3</td>\n    </tr>\n    <tr>\n      <th>3</th>\n      <td>Africa</td>\n      <td>58</td>\n      <td>13525431.0345</td>\n      <td>4</td>\n      <td>1</td>\n    </tr>\n    <tr>\n      <th>4</th>\n      <td>North America</td>\n      <td>37</td>\n      <td>13053864.8649</td>\n      <td>5</td>\n      <td>4</td>\n    </tr>\n    <tr>\n      <th>5</th>\n      <td>Oceania</td>\n      <td>28</td>\n      <td>1085755.3571</td>\n      <td>6</td>\n      <td>5</td>\n    </tr>\n    <tr>\n      <th>6</th>\n      <td>Antarctica</td>\n      <td>5</td>\n      <td>0.0000</td>\n      <td>7</td>\n      <td>7</td>\n    </tr>\n  </tbody>\n</table>\n</div>"
     },
     "metadata": {},
     "execution_count": 73
    }
   ],
   "source": [
    "#rank dengan group by\n",
    "sql('''\n",
    "select continent, count(*) as jumlah_negara, avg(population),\n",
    "rank() over(order by avg(population) desc) as rank_pop,\n",
    "rank() over(order by count(*) desc) as rank_total\n",
    "from country\n",
    "group by 1\n",
    "order by 4\n",
    "''')"
   ]
  },
  {
   "cell_type": "code",
   "execution_count": 80,
   "metadata": {},
   "outputs": [
    {
     "output_type": "execute_result",
     "data": {
      "text/plain": [
       "                                     name  population  quantile_pop\n",
       "0                                   China  1277558000             1\n",
       "1                                   India  1013662000             1\n",
       "2                           United States   278357000             1\n",
       "3                               Indonesia   212107000             1\n",
       "4                                  Brazil   170115000             1\n",
       "5                                Pakistan   156483000             1\n",
       "6                      Russian Federation   146934000             1\n",
       "7                              Bangladesh   129155000             1\n",
       "8                                   Japan   126714000             1\n",
       "9                                 Nigeria   111506000             1\n",
       "10                                 Mexico    98881000             1\n",
       "11                                Germany    82164700             1\n",
       "12                                Vietnam    79832000             1\n",
       "13                            Philippines    75967000             1\n",
       "14                                  Egypt    68470000             1\n",
       "15                                   Iran    67702000             1\n",
       "16                                 Turkey    66591000             1\n",
       "17                               Ethiopia    62565000             1\n",
       "18                               Thailand    61399000             1\n",
       "19                         United Kingdom    59623400             1\n",
       "20                                 France    59225700             1\n",
       "21                                  Italy    57680000             1\n",
       "22  Congo, The Democratic Republic of the    51654000             1\n",
       "23                                Ukraine    50456000             1\n",
       "24                            South Korea    46844000             1\n",
       "25                                Myanmar    45611000             1\n",
       "26                               Colombia    42321000             1\n",
       "27                           South Africa    40377000             1\n",
       "28                                  Spain    39441700             1\n",
       "29                                 Poland    38653600             1\n",
       "30                              Argentina    37032000             1\n",
       "31                               Tanzania    33517000             1\n",
       "32                                Algeria    31471000             1\n",
       "33                                 Canada    31147000             1\n",
       "34                                  Kenya    30080000             1\n",
       "35                                  Sudan    29490000             1\n",
       "36                                Morocco    28351000             1\n",
       "37                                   Peru    25662000             1\n",
       "38                             Uzbekistan    24318000             1\n",
       "39                              Venezuela    24170000             1\n",
       "40                            North Korea    24039000             1\n",
       "41                                  Nepal    23930000             1\n",
       "42                                   Iraq    23115000             1\n",
       "43                            Afghanistan    22720000             1\n",
       "44                                Romania    22455500             1\n",
       "45                                 Taiwan    22256000             1\n",
       "46                               Malaysia    22244000             1\n",
       "47                                 Uganda    21778000             1\n",
       "48                           Saudi Arabia    21607000             1\n",
       "49                                  Ghana    20212000             1\n",
       "50                             Mozambique    19680000             1\n",
       "51                              Australia    18886000             1\n",
       "52                              Sri Lanka    18827000             1\n",
       "53                                  Yemen    18112000             1\n",
       "54                              Kazakstan    16223000             1\n",
       "55                                  Syria    16125000             1\n",
       "56                             Madagascar    15942000             1\n",
       "57                            Netherlands    15864000             1\n",
       "58                                  Chile    15211000             1\n",
       "59                               Cameroon    15085000             1"
      ],
      "text/html": "<div>\n<style scoped>\n    .dataframe tbody tr th:only-of-type {\n        vertical-align: middle;\n    }\n\n    .dataframe tbody tr th {\n        vertical-align: top;\n    }\n\n    .dataframe thead th {\n        text-align: right;\n    }\n</style>\n<table border=\"1\" class=\"dataframe\">\n  <thead>\n    <tr style=\"text-align: right;\">\n      <th></th>\n      <th>name</th>\n      <th>population</th>\n      <th>quantile_pop</th>\n    </tr>\n  </thead>\n  <tbody>\n    <tr>\n      <th>0</th>\n      <td>China</td>\n      <td>1277558000</td>\n      <td>1</td>\n    </tr>\n    <tr>\n      <th>1</th>\n      <td>India</td>\n      <td>1013662000</td>\n      <td>1</td>\n    </tr>\n    <tr>\n      <th>2</th>\n      <td>United States</td>\n      <td>278357000</td>\n      <td>1</td>\n    </tr>\n    <tr>\n      <th>3</th>\n      <td>Indonesia</td>\n      <td>212107000</td>\n      <td>1</td>\n    </tr>\n    <tr>\n      <th>4</th>\n      <td>Brazil</td>\n      <td>170115000</td>\n      <td>1</td>\n    </tr>\n    <tr>\n      <th>5</th>\n      <td>Pakistan</td>\n      <td>156483000</td>\n      <td>1</td>\n    </tr>\n    <tr>\n      <th>6</th>\n      <td>Russian Federation</td>\n      <td>146934000</td>\n      <td>1</td>\n    </tr>\n    <tr>\n      <th>7</th>\n      <td>Bangladesh</td>\n      <td>129155000</td>\n      <td>1</td>\n    </tr>\n    <tr>\n      <th>8</th>\n      <td>Japan</td>\n      <td>126714000</td>\n      <td>1</td>\n    </tr>\n    <tr>\n      <th>9</th>\n      <td>Nigeria</td>\n      <td>111506000</td>\n      <td>1</td>\n    </tr>\n    <tr>\n      <th>10</th>\n      <td>Mexico</td>\n      <td>98881000</td>\n      <td>1</td>\n    </tr>\n    <tr>\n      <th>11</th>\n      <td>Germany</td>\n      <td>82164700</td>\n      <td>1</td>\n    </tr>\n    <tr>\n      <th>12</th>\n      <td>Vietnam</td>\n      <td>79832000</td>\n      <td>1</td>\n    </tr>\n    <tr>\n      <th>13</th>\n      <td>Philippines</td>\n      <td>75967000</td>\n      <td>1</td>\n    </tr>\n    <tr>\n      <th>14</th>\n      <td>Egypt</td>\n      <td>68470000</td>\n      <td>1</td>\n    </tr>\n    <tr>\n      <th>15</th>\n      <td>Iran</td>\n      <td>67702000</td>\n      <td>1</td>\n    </tr>\n    <tr>\n      <th>16</th>\n      <td>Turkey</td>\n      <td>66591000</td>\n      <td>1</td>\n    </tr>\n    <tr>\n      <th>17</th>\n      <td>Ethiopia</td>\n      <td>62565000</td>\n      <td>1</td>\n    </tr>\n    <tr>\n      <th>18</th>\n      <td>Thailand</td>\n      <td>61399000</td>\n      <td>1</td>\n    </tr>\n    <tr>\n      <th>19</th>\n      <td>United Kingdom</td>\n      <td>59623400</td>\n      <td>1</td>\n    </tr>\n    <tr>\n      <th>20</th>\n      <td>France</td>\n      <td>59225700</td>\n      <td>1</td>\n    </tr>\n    <tr>\n      <th>21</th>\n      <td>Italy</td>\n      <td>57680000</td>\n      <td>1</td>\n    </tr>\n    <tr>\n      <th>22</th>\n      <td>Congo, The Democratic Republic of the</td>\n      <td>51654000</td>\n      <td>1</td>\n    </tr>\n    <tr>\n      <th>23</th>\n      <td>Ukraine</td>\n      <td>50456000</td>\n      <td>1</td>\n    </tr>\n    <tr>\n      <th>24</th>\n      <td>South Korea</td>\n      <td>46844000</td>\n      <td>1</td>\n    </tr>\n    <tr>\n      <th>25</th>\n      <td>Myanmar</td>\n      <td>45611000</td>\n      <td>1</td>\n    </tr>\n    <tr>\n      <th>26</th>\n      <td>Colombia</td>\n      <td>42321000</td>\n      <td>1</td>\n    </tr>\n    <tr>\n      <th>27</th>\n      <td>South Africa</td>\n      <td>40377000</td>\n      <td>1</td>\n    </tr>\n    <tr>\n      <th>28</th>\n      <td>Spain</td>\n      <td>39441700</td>\n      <td>1</td>\n    </tr>\n    <tr>\n      <th>29</th>\n      <td>Poland</td>\n      <td>38653600</td>\n      <td>1</td>\n    </tr>\n    <tr>\n      <th>30</th>\n      <td>Argentina</td>\n      <td>37032000</td>\n      <td>1</td>\n    </tr>\n    <tr>\n      <th>31</th>\n      <td>Tanzania</td>\n      <td>33517000</td>\n      <td>1</td>\n    </tr>\n    <tr>\n      <th>32</th>\n      <td>Algeria</td>\n      <td>31471000</td>\n      <td>1</td>\n    </tr>\n    <tr>\n      <th>33</th>\n      <td>Canada</td>\n      <td>31147000</td>\n      <td>1</td>\n    </tr>\n    <tr>\n      <th>34</th>\n      <td>Kenya</td>\n      <td>30080000</td>\n      <td>1</td>\n    </tr>\n    <tr>\n      <th>35</th>\n      <td>Sudan</td>\n      <td>29490000</td>\n      <td>1</td>\n    </tr>\n    <tr>\n      <th>36</th>\n      <td>Morocco</td>\n      <td>28351000</td>\n      <td>1</td>\n    </tr>\n    <tr>\n      <th>37</th>\n      <td>Peru</td>\n      <td>25662000</td>\n      <td>1</td>\n    </tr>\n    <tr>\n      <th>38</th>\n      <td>Uzbekistan</td>\n      <td>24318000</td>\n      <td>1</td>\n    </tr>\n    <tr>\n      <th>39</th>\n      <td>Venezuela</td>\n      <td>24170000</td>\n      <td>1</td>\n    </tr>\n    <tr>\n      <th>40</th>\n      <td>North Korea</td>\n      <td>24039000</td>\n      <td>1</td>\n    </tr>\n    <tr>\n      <th>41</th>\n      <td>Nepal</td>\n      <td>23930000</td>\n      <td>1</td>\n    </tr>\n    <tr>\n      <th>42</th>\n      <td>Iraq</td>\n      <td>23115000</td>\n      <td>1</td>\n    </tr>\n    <tr>\n      <th>43</th>\n      <td>Afghanistan</td>\n      <td>22720000</td>\n      <td>1</td>\n    </tr>\n    <tr>\n      <th>44</th>\n      <td>Romania</td>\n      <td>22455500</td>\n      <td>1</td>\n    </tr>\n    <tr>\n      <th>45</th>\n      <td>Taiwan</td>\n      <td>22256000</td>\n      <td>1</td>\n    </tr>\n    <tr>\n      <th>46</th>\n      <td>Malaysia</td>\n      <td>22244000</td>\n      <td>1</td>\n    </tr>\n    <tr>\n      <th>47</th>\n      <td>Uganda</td>\n      <td>21778000</td>\n      <td>1</td>\n    </tr>\n    <tr>\n      <th>48</th>\n      <td>Saudi Arabia</td>\n      <td>21607000</td>\n      <td>1</td>\n    </tr>\n    <tr>\n      <th>49</th>\n      <td>Ghana</td>\n      <td>20212000</td>\n      <td>1</td>\n    </tr>\n    <tr>\n      <th>50</th>\n      <td>Mozambique</td>\n      <td>19680000</td>\n      <td>1</td>\n    </tr>\n    <tr>\n      <th>51</th>\n      <td>Australia</td>\n      <td>18886000</td>\n      <td>1</td>\n    </tr>\n    <tr>\n      <th>52</th>\n      <td>Sri Lanka</td>\n      <td>18827000</td>\n      <td>1</td>\n    </tr>\n    <tr>\n      <th>53</th>\n      <td>Yemen</td>\n      <td>18112000</td>\n      <td>1</td>\n    </tr>\n    <tr>\n      <th>54</th>\n      <td>Kazakstan</td>\n      <td>16223000</td>\n      <td>1</td>\n    </tr>\n    <tr>\n      <th>55</th>\n      <td>Syria</td>\n      <td>16125000</td>\n      <td>1</td>\n    </tr>\n    <tr>\n      <th>56</th>\n      <td>Madagascar</td>\n      <td>15942000</td>\n      <td>1</td>\n    </tr>\n    <tr>\n      <th>57</th>\n      <td>Netherlands</td>\n      <td>15864000</td>\n      <td>1</td>\n    </tr>\n    <tr>\n      <th>58</th>\n      <td>Chile</td>\n      <td>15211000</td>\n      <td>1</td>\n    </tr>\n    <tr>\n      <th>59</th>\n      <td>Cameroon</td>\n      <td>15085000</td>\n      <td>1</td>\n    </tr>\n  </tbody>\n</table>\n</div>"
     },
     "metadata": {},
     "execution_count": 80
    }
   ],
   "source": [
    "#ntile --> membuat baris berisikan nomor yg nomor group sesuai dengan jumlah group yg kita tentukan. Pembagian didasarkan pada urutan nilai data. misal ada 20 data, kita bagi 4, maka 5 data dengan nilai terkecil (secara default dari kecil-besar) akan masuk ke grup 1, 5 data berikutnya grup 2, dan 5 data dengan nilai terbesar di grup 4.\n",
    "\n",
    "sql('''\n",
    "with quantile as(\n",
    "select name, population,\n",
    "ntile(4) over(order by population desc) as quantile_pop\n",
    "from country)\n",
    "select * from quantile where quantile_pop=1\n",
    "''')"
   ]
  },
  {
   "cell_type": "code",
   "execution_count": 108,
   "metadata": {},
   "outputs": [
    {
     "output_type": "execute_result",
     "data": {
      "text/plain": [
       "       continent  total_negara total_cumulatif\n",
       "0         Africa            58              58\n",
       "1           Asia            51             109\n",
       "2         Europe            46             155\n",
       "3  North America            37             192\n",
       "4        Oceania            28             220\n",
       "5  South America            14             234\n",
       "6     Antarctica             5             239"
      ],
      "text/html": "<div>\n<style scoped>\n    .dataframe tbody tr th:only-of-type {\n        vertical-align: middle;\n    }\n\n    .dataframe tbody tr th {\n        vertical-align: top;\n    }\n\n    .dataframe thead th {\n        text-align: right;\n    }\n</style>\n<table border=\"1\" class=\"dataframe\">\n  <thead>\n    <tr style=\"text-align: right;\">\n      <th></th>\n      <th>continent</th>\n      <th>total_negara</th>\n      <th>total_cumulatif</th>\n    </tr>\n  </thead>\n  <tbody>\n    <tr>\n      <th>0</th>\n      <td>Africa</td>\n      <td>58</td>\n      <td>58</td>\n    </tr>\n    <tr>\n      <th>1</th>\n      <td>Asia</td>\n      <td>51</td>\n      <td>109</td>\n    </tr>\n    <tr>\n      <th>2</th>\n      <td>Europe</td>\n      <td>46</td>\n      <td>155</td>\n    </tr>\n    <tr>\n      <th>3</th>\n      <td>North America</td>\n      <td>37</td>\n      <td>192</td>\n    </tr>\n    <tr>\n      <th>4</th>\n      <td>Oceania</td>\n      <td>28</td>\n      <td>220</td>\n    </tr>\n    <tr>\n      <th>5</th>\n      <td>South America</td>\n      <td>14</td>\n      <td>234</td>\n    </tr>\n    <tr>\n      <th>6</th>\n      <td>Antarctica</td>\n      <td>5</td>\n      <td>239</td>\n    </tr>\n  </tbody>\n</table>\n</div>"
     },
     "metadata": {},
     "execution_count": 108
    }
   ],
   "source": [
    "# sliding windows, untuk mencari aggregate dari beberapa data berurutan. biasanya dipakai untuk mencari moving average atau jumlah kumulatif\n",
    "sql('''\n",
    "with total_negara_per_benua as(\n",
    "    select continent, count(*) as total_negara from country\n",
    "    group by 1\n",
    ")\n",
    "select continent, total_negara,\n",
    "sum(total_negara) over (order by total_negara desc \n",
    "ROWS BETWEEN UNBOUNDED PRECEDING and CURRENT ROW) as total_cumulatif\n",
    "from total_negara_per_benua\n",
    " ''')"
   ]
  },
  {
   "cell_type": "code",
   "execution_count": 110,
   "metadata": {},
   "outputs": [
    {
     "output_type": "execute_result",
     "data": {
      "text/plain": [
       "       continent  total_negara total_cumulatif\n",
       "0         Africa            58             109\n",
       "1           Asia            51              97\n",
       "2         Europe            46              83\n",
       "3  North America            37              65\n",
       "4        Oceania            28              42\n",
       "5  South America            14              19\n",
       "6     Antarctica             5               5"
      ],
      "text/html": "<div>\n<style scoped>\n    .dataframe tbody tr th:only-of-type {\n        vertical-align: middle;\n    }\n\n    .dataframe tbody tr th {\n        vertical-align: top;\n    }\n\n    .dataframe thead th {\n        text-align: right;\n    }\n</style>\n<table border=\"1\" class=\"dataframe\">\n  <thead>\n    <tr style=\"text-align: right;\">\n      <th></th>\n      <th>continent</th>\n      <th>total_negara</th>\n      <th>total_cumulatif</th>\n    </tr>\n  </thead>\n  <tbody>\n    <tr>\n      <th>0</th>\n      <td>Africa</td>\n      <td>58</td>\n      <td>109</td>\n    </tr>\n    <tr>\n      <th>1</th>\n      <td>Asia</td>\n      <td>51</td>\n      <td>97</td>\n    </tr>\n    <tr>\n      <th>2</th>\n      <td>Europe</td>\n      <td>46</td>\n      <td>83</td>\n    </tr>\n    <tr>\n      <th>3</th>\n      <td>North America</td>\n      <td>37</td>\n      <td>65</td>\n    </tr>\n    <tr>\n      <th>4</th>\n      <td>Oceania</td>\n      <td>28</td>\n      <td>42</td>\n    </tr>\n    <tr>\n      <th>5</th>\n      <td>South America</td>\n      <td>14</td>\n      <td>19</td>\n    </tr>\n    <tr>\n      <th>6</th>\n      <td>Antarctica</td>\n      <td>5</td>\n      <td>5</td>\n    </tr>\n  </tbody>\n</table>\n</div>"
     },
     "metadata": {},
     "execution_count": 110
    }
   ],
   "source": [
    "#untuk penggunakan preceding dan following, perlu dicantumkan berapa baris setelah/sebelum\n",
    "# di contoh ini, kita menjumlahkan total negara tiap baris dengan 1 baris setelahnya\n",
    "sql('''\n",
    "with total_negara_per_benua as(\n",
    "    select continent, count(*) as total_negara from country\n",
    "    group by 1\n",
    ")\n",
    "select continent, total_negara,\n",
    "sum(total_negara) over (order by total_negara desc \n",
    "ROWS BETWEEN CURRENT ROW and 1 FOLLOWING) as total_cumulatif\n",
    "from total_negara_per_benua\n",
    " ''')"
   ]
  },
  {
   "cell_type": "code",
   "execution_count": null,
   "metadata": {},
   "outputs": [],
   "source": []
  }
 ]
}